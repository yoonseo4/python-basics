{
 "cells": [
  {
   "cell_type": "markdown",
   "metadata": {},
   "source": [
    "## Python Data Types Lesson\n",
    "### 1. Introduction\n",
    "##### Python has several built-in data types, which are used to store various kinds of data.\n",
    "#### Common data types in Python:\n",
    "#### Numeric: int, float, complex\n",
    "#### Sequence: str, list, tuple\n",
    "#### Set: set\n",
    "#### Mapping: dict\n",
    "#### Boolean: bool\n",
    "#### None: NoneType"
   ]
  },
  {
   "cell_type": "code",
   "execution_count": 2,
   "metadata": {},
   "outputs": [
    {
     "name": "stdout",
     "output_type": "stream",
     "text": [
      "integar examples: 10 -5 0\n",
      "Type of x: <class 'int'>\n"
     ]
    }
   ],
   "source": [
    "# Example of integers\n",
    "x = 10\n",
    "y = -5\n",
    "z = 0\n",
    "\n",
    "print(\"integar examples:\", x, y, z)\n",
    "print(\"Type of x:\", type(x))"
   ]
  },
  {
   "cell_type": "code",
   "execution_count": 3,
   "metadata": {},
   "outputs": [
    {
     "name": "stdout",
     "output_type": "stream",
     "text": [
      "Float examples: 3.14 -0.5 1.0\n",
      "Type of a: <class 'float'>\n"
     ]
    }
   ],
   "source": [
    "# Examples of floats\n",
    "a = 3.14\n",
    "b = -0.5\n",
    "c = 1.0\n",
    "\n",
    "print(\"Float examples:\", a, b, c)\n",
    "print(\"Type of a:\", type(a))"
   ]
  },
  {
   "cell_type": "code",
   "execution_count": 4,
   "metadata": {},
   "outputs": [
    {
     "name": "stdout",
     "output_type": "stream",
     "text": [
      "Complex number examples: (2+3j) (-1-4j)\n",
      "Type of d: <class 'complex'>\n",
      "Real part: 2.0\n",
      "Imaginary part: 3.0\n"
     ]
    }
   ],
   "source": [
    "# Examples of complex numbers\n",
    "d = 2 + 3j\n",
    "e = -1 - 4j\n",
    "\n",
    "print(\"Complex number examples:\", d, e)\n",
    "print(\"Type of d:\", type(d))\n",
    "print(\"Real part:\", d.real)\n",
    "print(\"Imaginary part:\", d.imag)"
   ]
  },
  {
   "cell_type": "markdown",
   "metadata": {},
   "source": [
    "## Strings"
   ]
  },
  {
   "cell_type": "code",
   "execution_count": 5,
   "metadata": {},
   "outputs": [
    {
     "name": "stdout",
     "output_type": "stream",
     "text": [
      "Hello world!\n",
      "Python is fun!\n",
      "This is\n",
      "a multi-line string.\n",
      "Type of greeting: <class 'str'>\n"
     ]
    }
   ],
   "source": [
    "# STring examples\n",
    "greeting = \"Hello world!\"\n",
    "single_quote ='Python is fun!'\n",
    "multi_line = \"\"\"This is\n",
    "a multi-line string.\"\"\"\n",
    "\n",
    "print(greeting)\n",
    "print(single_quote)\n",
    "print(multi_line)\n",
    "print(\"Type of greeting:\", type(greeting))"
   ]
  },
  {
   "cell_type": "code",
   "execution_count": 8,
   "metadata": {},
   "outputs": [
    {
     "name": "stdout",
     "output_type": "stream",
     "text": [
      "First character: P\n",
      "Last character n\n",
      "Substring: Pyt\n",
      "Length of string: 6\n",
      "Uppercase: PYTHON\n",
      "Replace 'P' with 'J': Jython\n"
     ]
    }
   ],
   "source": [
    "#String slicing and operations\n",
    "s = \"Python\"\n",
    "print(\"First character:\", s[0])\n",
    "print(\"Last character\", s[-1])\n",
    "print(\"Substring:\", s[0:3])  # Characters from index 0 to 2\n",
    "print(\"Length of string:\", len(s))\n",
    "print(\"Uppercase:\", s.upper())\n",
    "print(\"Replace 'P' with 'J':\", s.replace(\"P\",\"J\"))\n"
   ]
  },
  {
   "cell_type": "markdown",
   "metadata": {},
   "source": [
    "## Lists"
   ]
  },
  {
   "cell_type": "code",
   "execution_count": 10,
   "metadata": {},
   "outputs": [
    {
     "name": "stdout",
     "output_type": "stream",
     "text": [
      "List: ['apple', 'banana', 'cherry']\n",
      "First item: apple\n",
      "Last item: cherry\n",
      "Modified list: ['apple', 'cherry', 'orange']\n"
     ]
    }
   ],
   "source": [
    "# List examples\n",
    "fruits = [\"apple\", \"banana\", \"cherry\"]\n",
    "print(\"List:\", fruits)\n",
    "print(\"First item:\", fruits[0])\n",
    "print(\"Last item:\", fruits[-1])\n",
    "\n",
    "# Modifying lists\n",
    "fruits.append(\"orange\")\n",
    "fruits.remove(\"banana\")\n",
    "print(\"Modified list:\", fruits)"
   ]
  },
  {
   "cell_type": "markdown",
   "metadata": {},
   "source": [
    "## Tuples"
   ]
  },
  {
   "cell_type": "code",
   "execution_count": null,
   "metadata": {},
   "outputs": [
    {
     "name": "stdout",
     "output_type": "stream",
     "text": [
      "Tuple: (10, 20, 30)\n",
      "First item: 10\n",
      "Appended list: [100, 20, 30, 40, [20], [[25]]]\n",
      "extend:  [100, 20, 30, 40, [20], [[25]], 60, 70, [80, 90]]\n",
      "Modified list: [100, 20, 30, 40, [20], [[25]], 60, 70, [80, 90]]\n"
     ]
    }
   ],
   "source": [
    "# Tuple examples\n",
    "coordinates = (10, 20, 30)\n",
    "print(\"Tuple:\", coordinates)\n",
    "print(\"First item:\", coordinates[0])\n",
    "\n",
    "# Tuples are immutable\n",
    "# coordinates[0] = 50  # This will raise an error\n",
    "\n",
    "coordinates_2 = [50, 20, 30]  # This is allowed\n",
    "coordinates_2[0] = 100\n",
    "coordinates_2.append(40)\n",
    "coordinates_2.append([20])\n",
    "coordinates_2.append([[25]])\n",
    "print(\"Appended list:\", coordinates_2)\n",
    "coordinates_2.extend([60, 70]) # .extend(iterable)\n",
    "coordinates_2.extend([[80, 90]]) # .extend(iterable)\n",
    "\n",
    "print(\"extend: \", coordinates_2)\n",
    "\n",
    "print(\"Modified list:\", coordinates_2)"
   ]
  },
  {
   "cell_type": "markdown",
   "metadata": {},
   "source": [
    "## Sets"
   ]
  },
  {
   "cell_type": "code",
   "execution_count": 13,
   "metadata": {},
   "outputs": [
    {
     "name": "stdout",
     "output_type": "stream",
     "text": [
      "Set: {'red', 'blue', 'green'}\n",
      "Modified set: {'red', 'blue', 'yellow'}\n",
      "Set 2: {'yellow', 'purple'}\n"
     ]
    }
   ],
   "source": [
    "# Set examples\n",
    "colors = {\"red\", \"green\", \"blue\"}\n",
    "print(\"Set:\", colors)\n",
    "colors_2 = set([\"yellow\", \"purple\", \"purple\"])\n",
    "\n",
    "# Add and remove items\n",
    "colors.add(\"yellow\")\n",
    "colors.discard(\"green\")\n",
    "print(\"Modified set:\", colors)\n",
    "print(\"Set 2:\", colors_2)"
   ]
  },
  {
   "cell_type": "markdown",
   "metadata": {},
   "source": [
    "## Set Operations"
   ]
  },
  {
   "cell_type": "code",
   "execution_count": 14,
   "metadata": {},
   "outputs": [
    {
     "name": "stdout",
     "output_type": "stream",
     "text": [
      "Union: {1, 2, 3, 4, 5}\n",
      "Intersection: {3}\n",
      "Difference: {1, 2}\n",
      "Symmetric difference: set()\n"
     ]
    }
   ],
   "source": [
    "set1 = {1, 2, 3}\n",
    "set2 = {3, 4, 5}\n",
    "set3 = {3, 2, 1}\n",
    "print(\"Union:\", set1 | set2)\n",
    "print(\"Intersection:\", set1 & set2)\n",
    "print(\"Difference:\", set1 - set2)\n",
    "print(\"Symmetric difference:\", set1 ^ set3)"
   ]
  },
  {
   "cell_type": "code",
   "execution_count": 15,
   "metadata": {},
   "outputs": [
    {
     "name": "stdout",
     "output_type": "stream",
     "text": [
      "Symmetric difference: {1, 2, 5, 6}\n"
     ]
    }
   ],
   "source": [
    "set1 = {1, 2, 3, 4}\n",
    "set3 = {3, 4, 5, 6}\n",
    "\n",
    "print(\"Symmetric difference:\", set1 ^ set3)  # Output: {1, 2, 5, 6}"
   ]
  },
  {
   "cell_type": "markdown",
   "metadata": {},
   "source": [
    "## Dictionaries"
   ]
  },
  {
   "cell_type": "code",
   "execution_count": 16,
   "metadata": {},
   "outputs": [
    {
     "name": "stdout",
     "output_type": "stream",
     "text": [
      "Dictionary: {'name': 'Alice', 'age': 20, 'grade': 'A'}\n",
      "Name: Alice\n",
      "Modified dictionary: {'name': 'Alice', 'age': 21, 'grade': 'A', 'subject': 'Math'}\n"
     ]
    }
   ],
   "source": [
    "# Dictionary examples\n",
    "student = {\"name\": \"Alice\", \"age\": 20, \"grade\": \"A\"}\n",
    "print(\"Dictionary:\", student)\n",
    "print(\"Name:\", student[\"name\"])\n",
    "\n",
    "# Modifying a dictionary\n",
    "student[\"age\"] = 21\n",
    "student[\"subject\"] = \"Math\"\n",
    "print(\"Modified dictionary:\", student)"
   ]
  },
  {
   "cell_type": "code",
   "execution_count": 17,
   "metadata": {},
   "outputs": [
    {
     "name": "stdout",
     "output_type": "stream",
     "text": [
      "Keys: dict_keys(['name', 'age', 'grade', 'subject'])\n",
      "<class 'dict_keys'>\n",
      "Values: dict_values(['Alice', 21, 'A', 'Math'])\n",
      "<class 'dict_values'>\n",
      "Items: dict_items([('name', 'Alice'), ('age', 21), ('grade', 'A'), ('subject', 'Math')])\n",
      "<class 'dict_items'>\n"
     ]
    }
   ],
   "source": [
    "print(\"Keys:\", student.keys())\n",
    "print(type(student.keys()))\n",
    "print(\"Values:\", student.values())\n",
    "print(type(student.values()))\n",
    "print(\"Items:\", student.items()) \n",
    "# most important way to iterate over a dictionary\n",
    "print(type(student.items()))"
   ]
  },
  {
   "cell_type": "markdown",
   "metadata": {},
   "source": [
    "## Booleans"
   ]
  },
  {
   "cell_type": "code",
   "execution_count": 20,
   "metadata": {},
   "outputs": [
    {
     "name": "stdout",
     "output_type": "stream",
     "text": [
      "x is True and its type is <class 'bool'>\n",
      "y is False and its type is <class 'bool'>\n",
      "a > b: False\n",
      "a < b: True\n",
      "a == b: False\n",
      "a != b: True\n"
     ]
    }
   ],
   "source": [
    "# Boolean examples\n",
    "x = True\n",
    "y = False\n",
    "\n",
    "print(\"x is\", x, \"and its type is\", type(x))\n",
    "print(\"y is\", y, \"and its type is\", type(y))\n",
    "\n",
    "a = 10\n",
    "b = 20\n",
    "print(\"a > b:\", a > b)\n",
    "print(\"a < b:\", a < b)\n",
    "print(\"a == b:\", a == b)\n",
    "print(\"a != b:\", a != b)"
   ]
  },
  {
   "cell_type": "markdown",
   "metadata": {},
   "source": [
    "## Nonetype"
   ]
  },
  {
   "cell_type": "code",
   "execution_count": 21,
   "metadata": {},
   "outputs": [
    {
     "name": "stdout",
     "output_type": "stream",
     "text": [
      "x is None\n",
      "Type of x: <class 'NoneType'>\n"
     ]
    }
   ],
   "source": [
    "# NoneType example\n",
    "x = None\n",
    "print(\"x is\", x)\n",
    "print(\"Type of x:\", type(x))"
   ]
  },
  {
   "cell_type": "code",
   "execution_count": null,
   "metadata": {},
   "outputs": [],
   "source": []
  }
 ],
 "metadata": {
  "kernelspec": {
   "display_name": "Python 3",
   "language": "python",
   "name": "python3"
  },
  "language_info": {
   "codemirror_mode": {
    "name": "ipython",
    "version": 3
   },
   "file_extension": ".py",
   "mimetype": "text/x-python",
   "name": "python",
   "nbconvert_exporter": "python",
   "pygments_lexer": "ipython3",
   "version": "3.12.8"
  }
 },
 "nbformat": 4,
 "nbformat_minor": 2
}
