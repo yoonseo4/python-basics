{
 "cells": [
  {
   "cell_type": "markdown",
   "metadata": {},
   "source": [
    "## Functions"
   ]
  },
  {
   "cell_type": "markdown",
   "metadata": {},
   "source": [
    "#### 1.1 Basic Syntex"
   ]
  },
  {
   "cell_type": "code",
   "execution_count": 2,
   "metadata": {},
   "outputs": [
    {
     "name": "stdout",
     "output_type": "stream",
     "text": [
      "Hello, Alice!\n",
      "Hello, Alice!\n",
      "hello, 윤서\n",
      "hello, 윤서\n",
      "Hello, Alice!\n"
     ]
    }
   ],
   "source": [
    "def greet(name):\n",
    "    return f\"Hello, {name}!\"\n",
    "\n",
    "print(greet(\"Alice\"))\n",
    "\n",
    "name = \"Alice\"\n",
    "print(f'Hello, {name}!')\n",
    "\n",
    "ys = \"윤서\"\n",
    "print(\"hello,\", ys)\n",
    "print(f'hello, {ys}')\n",
    "print(f'{greet(\"Alice\")}')"
   ]
  },
  {
   "cell_type": "markdown",
   "metadata": {},
   "source": [
    "##### 1.1 Posinional Arguments"
   ]
  },
  {
   "cell_type": "code",
   "execution_count": 3,
   "metadata": {},
   "outputs": [
    {
     "name": "stdout",
     "output_type": "stream",
     "text": [
      "8\n"
     ]
    }
   ],
   "source": [
    "def add(a,b):\n",
    "    return a + b\n",
    "\n",
    "print(add(3, 5))"
   ]
  },
  {
   "cell_type": "markdown",
   "metadata": {},
   "source": [
    "##### 1.2 Keyword Arguments"
   ]
  },
  {
   "cell_type": "code",
   "execution_count": 6,
   "metadata": {},
   "outputs": [
    {
     "name": "stdout",
     "output_type": "stream",
     "text": [
      "My name is Bob and I am 30 years old.\n",
      "My name is Alice and I am 40 years old.\n"
     ]
    }
   ],
   "source": [
    "def introduce(name, age):\n",
    "    return f\"My name is {name} and I am {age} years old.\"\n",
    "\n",
    "print(introduce(name=\"Bob\", age=30))\n",
    "print(introduce(age=40, name=\"Alice\"))"
   ]
  },
  {
   "cell_type": "markdown",
   "metadata": {},
   "source": [
    "##### Defualt Arguments"
   ]
  },
  {
   "cell_type": "markdown",
   "metadata": {},
   "source": []
  },
  {
   "cell_type": "code",
   "execution_count": 7,
   "metadata": {},
   "outputs": [
    {
     "name": "stdout",
     "output_type": "stream",
     "text": [
      "Hello, Guest!\n",
      "Hello, Alice!\n"
     ]
    }
   ],
   "source": [
    "def greet(name=\"Guest\"):\n",
    "    return f\"Hello, {name}!\"\n",
    "\n",
    "print(greet())\n",
    "print(greet(\"Alice\"))"
   ]
  },
  {
   "cell_type": "markdown",
   "metadata": {},
   "source": [
    "##### 1.4 Variable-Length Arguments\n",
    "\n",
    "###### *args: For multiple positional arguments.\n",
    "###### **kwargs: For multiple keyword arguments."
   ]
  },
  {
   "cell_type": "code",
   "execution_count": 9,
   "metadata": {},
   "outputs": [
    {
     "name": "stdout",
     "output_type": "stream",
     "text": [
      "Positional arguments: (1, 2, 3)\n",
      "Keyword arguments: {'name': 'Alice', 'age': 30}\n",
      "args[0]: (1, 2)\n",
      "kwargs['name']: Alice\n",
      "kwargs.items(): dict_items([('name', 'Alice'), ('age', 30)])\n"
     ]
    }
   ],
   "source": [
    "def summarize(*args, **kwargs):\n",
    "    print(\"Positional arguments:\", args)\n",
    "    print(\"Keyword arguments:\", kwargs)\n",
    "    print(f\"args[0]: {args[0:2]}\") # 1, 2\n",
    "    print(f\"kwargs['name']: {kwargs['name']}\") \n",
    "    print(f\"kwargs.items(): {kwargs.items()}\")\n",
    "\n",
    "summarize(1, 2, 3, name=\"Alice\", age=30)"
   ]
  },
  {
   "cell_type": "markdown",
   "metadata": {},
   "source": [
    "##### 1.5 Single Return Values and Multiple Return Values"
   ]
  },
  {
   "cell_type": "code",
   "execution_count": 10,
   "metadata": {},
   "outputs": [
    {
     "name": "stdout",
     "output_type": "stream",
     "text": [
      "16\n"
     ]
    }
   ],
   "source": [
    "def square(num):\n",
    "    return num ** 2\n",
    "\n",
    "print(square(4))\n"
   ]
  },
  {
   "cell_type": "code",
   "execution_count": 12,
   "metadata": {},
   "outputs": [
    {
     "name": "stdout",
     "output_type": "stream",
     "text": [
      "Addition: 12 Subtraction: 8\n",
      "Multiplication: 20 Division: 5.0\n"
     ]
    }
   ],
   "source": [
    "def operations(a, b):\n",
    "    return a + b, a - b, a * b, a / b\n",
    "\n",
    "add, sub, mul, div = operations(10, 2)\n",
    "print(\"Addition:\", add, \"Subtraction:\", sub)\n",
    "print(\"Multiplication:\", mul, \"Division:\", div)"
   ]
  },
  {
   "cell_type": "markdown",
   "metadata": {},
   "source": [
    "##### 2.1 Lambda Functions"
   ]
  },
  {
   "cell_type": "code",
   "execution_count": 14,
   "metadata": {},
   "outputs": [
    {
     "name": "stdout",
     "output_type": "stream",
     "text": [
      "25\n"
     ]
    }
   ],
   "source": [
    "square = lambda x: x ** 2\n",
    "print(square(5))\n",
    "\n",
    "def square_2(x):\n",
    "    return x ** 2"
   ]
  },
  {
   "cell_type": "markdown",
   "metadata": {},
   "source": [
    "##### 2.2 Map, Filter "
   ]
  },
  {
   "cell_type": "code",
   "execution_count": 17,
   "metadata": {},
   "outputs": [
    {
     "name": "stdout",
     "output_type": "stream",
     "text": [
      "Squares: [1, 4, 9, 16]\n",
      "Squares: [1, 4, 9, 16]\n"
     ]
    }
   ],
   "source": [
    "nums = [1, 2, 3, 4]\n",
    "\n",
    "def square(x):\n",
    "    return x ** 2\n",
    "\n",
    "# Map: Apply a function to each element in a list\n",
    "# map(function, iterable)\n",
    "\n",
    "# list(map(square, [1, 2, 3, 4]))\n",
    "# == [square(1), square(2), square(3), square(4)]\n",
    "\n",
    "squares = list(map(square, nums))\n",
    "print(\"Squares:\", squares)\n",
    "\n",
    "\n",
    "squares_2 = list(map(lambda x: x ** 2, nums))\n",
    "print(\"Squares:\", squares)"
   ]
  },
  {
   "cell_type": "code",
   "execution_count": null,
   "metadata": {},
   "outputs": [
    {
     "name": "stdout",
     "output_type": "stream",
     "text": [
      "Even numbers: [2, 4, 6, 8, 10]\n",
      "Even numbers: [2, 4, 6, 8, 10]\n"
     ]
    }
   ],
   "source": [
    "nums = [1, 2, 3, 4, 5, 6, 7, 8, 9, 10]\n",
    "\n",
    "def is_even(x):\n",
    "    return x % 2 == 0\n",
    "\n",
    "# Filter: Apply a function to each element in a list \n",
    "# and return true values\n",
    "\n",
    "# list(filter(is_even, [1, 2, 3, 4]))\n",
    "# => 1/2 = 0?, 2/2 = 0?, 3/2 = 0?, 4/2 = 0?\n",
    "# => [False, True, False, True]\n",
    "# => [2, 4]\n",
    "\n",
    "# filter(function, iterable)\n",
    "evens = list(filter(is_even, nums))\n",
    "print(\"Even numbers:\", evens)\n",
    "\n",
    "even_2 = list(filter(lambda x: x % 2 == 0, nums))\n",
    "print(\"Even numbers:\", even_2)"
   ]
  },
  {
   "cell_type": "markdown",
   "metadata": {},
   "source": [
    "##### 2.3 Higher-Order Functions\n",
    "##### Functions that accept other functions as arguments"
   ]
  },
  {
   "cell_type": "code",
   "execution_count": null,
   "metadata": {},
   "outputs": [
    {
     "name": "stdout",
     "output_type": "stream",
     "text": [
      "8\n"
     ]
    }
   ],
   "source": [
    "def apply_operation(func, x, y):\n",
    "    return func(x, y)\n",
    "\n",
    "def add(a, b):\n",
    "    return a + b\n",
    "\n",
    "# apply_operation(add, 3, 5)\n",
    "#   return add(3, 5)\n",
    "print(apply_operation(add, 3, 5))"
   ]
  }
 ],
 "metadata": {
  "kernelspec": {
   "display_name": "Python 3",
   "language": "python",
   "name": "python3"
  },
  "language_info": {
   "codemirror_mode": {
    "name": "ipython",
    "version": 3
   },
   "file_extension": ".py",
   "mimetype": "text/x-python",
   "name": "python",
   "nbconvert_exporter": "python",
   "pygments_lexer": "ipython3",
   "version": "3.12.8"
  }
 },
 "nbformat": 4,
 "nbformat_minor": 2
}
